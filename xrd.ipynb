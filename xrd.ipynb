{
 "cells": [
  {
   "cell_type": "markdown",
   "id": "688da8d9",
   "metadata": {},
   "source": [
    "# Tâche 6"
   ]
  },
  {
   "cell_type": "markdown",
   "id": "ee09f0e7",
   "metadata": {},
   "source": [
    "### Librairie/modules à importer"
   ]
  },
  {
   "cell_type": "code",
   "execution_count": 24,
   "id": "8e41b492",
   "metadata": {},
   "outputs": [],
   "source": [
    "# Garção Antonio 33672100 \n",
    "import numpy as np\n",
    "from mp_api.client import MPRester\n",
    "from pymatgen.core.operations import SymmOp\n",
    "from pymatgen.symmetry.analyzer import SpacegroupAnalyzer\n",
    "from pymatgen.electronic_structure.plotter import BSPlotter\n",
    "from pymatgen.phonon.plotter import PhononBSPlotter\n",
    "from jupyter_jsmol.pymatgen import quick_view\n",
    "from lmapr1492 import plot_brillouin_zone, get_plot_bs, get_plot_dos, get_plot_bs_and_dos, get_branch_wavevectors\n",
    "from plotly.subplots import make_subplots\n",
    "# Import importants\n",
    "from pymatgen.analysis.diffraction.xrd import * \n",
    "import plotly.graph_objects as go"
   ]
  },
  {
   "cell_type": "code",
   "execution_count": 25,
   "id": "68479a66",
   "metadata": {},
   "outputs": [],
   "source": [
    "mp_key = \"zWerxXVKJ4OBcYhUP0oO4SXcDOfS6EVF\"\n",
    "mp_id = \"mp-1960\""
   ]
  },
  {
   "cell_type": "code",
   "execution_count": 26,
   "id": "f312daca",
   "metadata": {},
   "outputs": [
    {
     "data": {
      "application/vnd.jupyter.widget-view+json": {
       "model_id": "d072e97926a64b5d9aa4e4800479d5cc",
       "version_major": 2,
       "version_minor": 0
      },
      "text/plain": [
       "Retrieving MaterialsDoc documents:   0%|          | 0/1 [00:00<?, ?it/s]"
      ]
     },
     "metadata": {},
     "output_type": "display_data"
    },
    {
     "data": {
      "application/vnd.jupyter.widget-view+json": {
       "model_id": "25d6c0cb8cc94551bdedcfabea9a645c",
       "version_major": 2,
       "version_minor": 0
      },
      "text/plain": [
       "Retrieving ElectronicStructureDoc documents:   0%|          | 0/1 [00:00<?, ?it/s]"
      ]
     },
     "metadata": {},
     "output_type": "display_data"
    },
    {
     "data": {
      "application/vnd.jupyter.widget-view+json": {
       "model_id": "a4102361b2cb409e9517893f19ada35a",
       "version_major": 2,
       "version_minor": 0
      },
      "text/plain": [
       "Retrieving ElectronicStructureDoc documents:   0%|          | 0/1 [00:00<?, ?it/s]"
      ]
     },
     "metadata": {},
     "output_type": "display_data"
    },
    {
     "data": {
      "application/vnd.jupyter.widget-view+json": {
       "model_id": "670a7eee9bc047248228099940c535d1",
       "version_major": 2,
       "version_minor": 0
      },
      "text/plain": [
       "Retrieving PhononBSDOSDoc documents:   0%|          | 0/1 [00:00<?, ?it/s]"
      ]
     },
     "metadata": {},
     "output_type": "display_data"
    },
    {
     "data": {
      "application/vnd.jupyter.widget-view+json": {
       "model_id": "67b6d1baf7284e41985618f4bd86da00",
       "version_major": 2,
       "version_minor": 0
      },
      "text/plain": [
       "Retrieving PhononBSDOSDoc documents:   0%|          | 0/1 [00:00<?, ?it/s]"
      ]
     },
     "metadata": {},
     "output_type": "display_data"
    },
    {
     "name": "stdout",
     "output_type": "stream",
     "text": [
      "Le recueil d'informations s'est déroulé avec succès\n"
     ]
    }
   ],
   "source": [
    "with MPRester(mp_key) as m:\n",
    "    prim_struc = m.get_structure_by_material_id(mp_id)\n",
    "    el_bs = m.get_bandstructure_by_material_id(mp_id)\n",
    "    el_dos = m.get_dos_by_material_id(mp_id)\n",
    "    ph_bs = m.get_phonon_bandstructure_by_material_id(mp_id)\n",
    "    ph_dos = m.get_phonon_dos_by_material_id(mp_id)\n",
    "conv_struc = SpacegroupAnalyzer(prim_struc).get_conventional_standard_structure()\n",
    "symmops = SpacegroupAnalyzer(conv_struc).get_space_group_operations()\n",
    "Calculate_diffractogramme_peaks = XRDCalculator(1.54060)\n",
    "print(\"Le recueil d'informations s'est déroulé avec succès\")"
   ]
  },
  {
   "cell_type": "markdown",
   "id": "7b10d4b8",
   "metadata": {},
   "source": [
    "#### J'ai importé les modules nécessaires au calcul des pics du diffractogramme, je dois maintenant les calculer, en  utilisant les fonctions de XRD"
   ]
  },
  {
   "cell_type": "markdown",
   "id": "d90b70bb",
   "metadata": {},
   "source": [
    "#### Je commence par nommer les variables nécessaires à l'utilisation des fonctions"
   ]
  },
  {
   "cell_type": "code",
   "execution_count": 22,
   "id": "5bd020c9",
   "metadata": {},
   "outputs": [],
   "source": [
    "# D'abord on calcule l'intensités des pics\n",
    "peak_1 = Calculate_diffractogramme_peaks.get_pattern(prim_struc).y[0]\n",
    "peak_2 = Calculate_diffractogramme_peaks.get_pattern(prim_struc).y[1]\n",
    "peak_3 = Calculate_diffractogramme_peaks.get_pattern(prim_struc).y[2]\n",
    "# Ensuite on calcule les indices HKL comme demandé dans les instructions\n",
    "hkl_1=Calculate_diffractogramme_peaks.get_pattern(prim_struc,True).hkls[0][0]['hkl']\n",
    "hkl_2=Calculate_diffractogramme_peaks.get_pattern(prim_struc,True).hkls[1][0]['hkl']\n",
    "hkl_3=Calculate_diffractogramme_peaks.get_pattern(prim_struc,True).hkls[2][0]['hkl']"
   ]
  },
  {
   "cell_type": "markdown",
   "id": "970e1003",
   "metadata": {},
   "source": [
    "#### J'affiche les résultats"
   ]
  },
  {
   "cell_type": "code",
   "execution_count": 23,
   "id": "2f75b898",
   "metadata": {},
   "outputs": [
    {
     "name": "stdout",
     "output_type": "stream",
     "text": [
      "Intensité du premier pic :  100.0\n",
      "Indices HKL du premier pic :  (1, 1, 1)\n",
      "Intensité du deuxième pic :  6.236877497458048\n",
      "Indices HKL du deuxième pic :  (1, 1, 0)\n",
      "Intensité du troisième pic :  57.462832439382346\n",
      "Indices HKL du troisième pic :  (2, 1, 1)\n"
     ]
    }
   ],
   "source": [
    "print(\"Intensité du premier pic : \", peak_1)\n",
    "print(\"Indices HKL du premier pic : \", hkl_1)\n",
    "print(\"Intensité du deuxième pic : \", peak_2)\n",
    "print(\"Indices HKL du deuxième pic : \", hkl_2)\n",
    "print(\"Intensité du troisième pic : \", peak_3)\n",
    "print(\"Indices HKL du troisième pic : \", hkl_3)"
   ]
  }
 ],
 "metadata": {
  "kernelspec": {
   "display_name": "Python 3 (ipykernel)",
   "language": "python",
   "name": "python3"
  },
  "language_info": {
   "codemirror_mode": {
    "name": "ipython",
    "version": 3
   },
   "file_extension": ".py",
   "mimetype": "text/x-python",
   "name": "python",
   "nbconvert_exporter": "python",
   "pygments_lexer": "ipython3",
   "version": "3.9.13"
  }
 },
 "nbformat": 4,
 "nbformat_minor": 5
}
